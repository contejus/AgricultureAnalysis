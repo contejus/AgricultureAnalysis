{
 "cells": [
  {
   "cell_type": "markdown",
   "metadata": {},
   "source": [
    "# Clustering of countries by wheat production"
   ]
  },
  {
   "cell_type": "markdown",
   "metadata": {},
   "source": [
    "## Table of Contents\n",
    "1. [Data ingestion](#Data-ingestion)\n",
    "2. [Data preprocessing](#Data-preprocessing)\n",
    "3. [EDA](#EDA)\n",
    "4. [Model Training](#Model-Training)\n",
    "5. [Model Testing](#Model-Testing)"
   ]
  },
  {
   "cell_type": "markdown",
   "metadata": {},
   "source": [
    "## Data ingestion"
   ]
  },
  {
   "cell_type": "markdown",
   "metadata": {},
   "source": [
    "### Introduction"
   ]
  },
  {
   "cell_type": "markdown",
   "metadata": {},
   "source": [
    "The purpose behind creating this model comes from the perspective of a farmer. If you were a prospective farmer in a given country (for this case, Afghanistan), and you had space to produce at most 5 different crops at a time, what crops should you produce?\n",
    "\n",
    "Our model solves this problem through clustering. Our dataset contains the consumption of various crops per 1000 tonnes for a variety of countries, and our model classifies these crops into clusters that will show the farmer exactly which crops he should prioritize for greater sales. \n",
    "\n",
    "Thanks to Dor Oppenheim for the [dataset](https://www.kaggle.com/dorbicycle/world-foodfeed-production)!"
   ]
  },
  {
   "cell_type": "markdown",
   "metadata": {},
   "source": [
    "### Understanding the data "
   ]
  },
  {
   "cell_type": "markdown",
   "metadata": {},
   "source": [
    "We're given a series of columns, what's the meaning behind each one?\n",
    "\n",
    "__Area Abbreviation, Area Code, Area__ - all correspond to the country  \n",
    "__Item Code__ - Unique ID corresponding to the type of food  \n",
    "__Item__ - Name of food (eg. wheat and products)  \n",
    "__Element Code__ - Food or Feed, based on whether food was consumed by animals or humans  \n",
    "__Unit__ - Measurement unit, for this case the data is all in 1000 tonnes units  \n",
    "__latitude, longitude__ - Coordinates of country  \n",
    "__Y1961, Y1962... etc__ - Consumption of a given crop in said year (eg. 1961 Wheat consumption per 1000 tonnes in USA)  \n",
    "\n",
    "Wow, this is a lot of information. Some of this is useful to our farmer, but our farmer is living in 2019, so he has almost no use for data pre-2010s. We will be exploring and trimming this dataset extensively in the next section."
   ]
  },
  {
   "cell_type": "markdown",
   "metadata": {},
   "source": [
    "## Data preprocessing"
   ]
  },
  {
   "cell_type": "markdown",
   "metadata": {},
   "source": [
    "__What columns should we keep for this dataset?__\n",
    "\n",
    "For my use case, I removed all countries except Afghanistan and all years except from 2010-2013. Using the resulting dataframe, we can then perform clustering on the dataset. \n",
    "\n",
    "Let's begin by importing the _FAO.csv_ file."
   ]
  },
  {
   "cell_type": "code",
   "execution_count": 1,
   "metadata": {},
   "outputs": [
    {
     "name": "stdout",
     "output_type": "stream",
     "text": [
      "  Area Abbreviation  Area Code         Area  Item Code  \\\n",
      "0               AFG          2  Afghanistan       2511   \n",
      "1               AFG          2  Afghanistan       2805   \n",
      "2               AFG          2  Afghanistan       2513   \n",
      "3               AFG          2  Afghanistan       2513   \n",
      "4               AFG          2  Afghanistan       2514   \n",
      "\n",
      "                       Item  Element Code Element         Unit  latitude  \\\n",
      "0        Wheat and products          5142    Food  1000 tonnes     33.94   \n",
      "1  Rice (Milled Equivalent)          5142    Food  1000 tonnes     33.94   \n",
      "2       Barley and products          5521    Feed  1000 tonnes     33.94   \n",
      "3       Barley and products          5142    Food  1000 tonnes     33.94   \n",
      "4        Maize and products          5521    Feed  1000 tonnes     33.94   \n",
      "\n",
      "   longitude  ...     Y2004   Y2005   Y2006   Y2007   Y2008   Y2009   Y2010  \\\n",
      "0      67.71  ...    3249.0  3486.0  3704.0  4164.0  4252.0  4538.0  4605.0   \n",
      "1      67.71  ...     419.0   445.0   546.0   455.0   490.0   415.0   442.0   \n",
      "2      67.71  ...      58.0   236.0   262.0   263.0   230.0   379.0   315.0   \n",
      "3      67.71  ...     185.0    43.0    44.0    48.0    62.0    55.0    60.0   \n",
      "4      67.71  ...     120.0   208.0   233.0   249.0   247.0   195.0   178.0   \n",
      "\n",
      "    Y2011  Y2012  Y2013  \n",
      "0  4711.0   4810   4895  \n",
      "1   476.0    425    422  \n",
      "2   203.0    367    360  \n",
      "3    72.0     78     89  \n",
      "4   191.0    200    200  \n",
      "\n",
      "[5 rows x 63 columns]\n"
     ]
    }
   ],
   "source": [
    "import numpy as np\n",
    "import pandas as pd\n",
    "\n",
    "df = pd.read_csv('FAO.csv', encoding='latin-1')\n",
    "print(df.head())"
   ]
  },
  {
   "cell_type": "markdown",
   "metadata": {},
   "source": [
    "Many of these columns are useless for our case. Therefore, our next step will be to drop them to increase performance and reduce confusion."
   ]
  },
  {
   "cell_type": "code",
   "execution_count": 2,
   "metadata": {},
   "outputs": [
    {
     "name": "stdout",
     "output_type": "stream",
     "text": [
      "  Area Abbreviation  Area Code         Area  Item Code  \\\n",
      "0               AFG          2  Afghanistan       2511   \n",
      "1               AFG          2  Afghanistan       2805   \n",
      "2               AFG          2  Afghanistan       2513   \n",
      "3               AFG          2  Afghanistan       2513   \n",
      "4               AFG          2  Afghanistan       2514   \n",
      "\n",
      "                       Item  Element Code Element         Unit  latitude  \\\n",
      "0        Wheat and products          5142    Food  1000 tonnes     33.94   \n",
      "1  Rice (Milled Equivalent)          5142    Food  1000 tonnes     33.94   \n",
      "2       Barley and products          5521    Feed  1000 tonnes     33.94   \n",
      "3       Barley and products          5142    Food  1000 tonnes     33.94   \n",
      "4        Maize and products          5521    Feed  1000 tonnes     33.94   \n",
      "\n",
      "   longitude  ...     Y2004   Y2005   Y2006   Y2007   Y2008   Y2009   Y2010  \\\n",
      "0      67.71  ...    3249.0  3486.0  3704.0  4164.0  4252.0  4538.0  4605.0   \n",
      "1      67.71  ...     419.0   445.0   546.0   455.0   490.0   415.0   442.0   \n",
      "2      67.71  ...      58.0   236.0   262.0   263.0   230.0   379.0   315.0   \n",
      "3      67.71  ...     185.0    43.0    44.0    48.0    62.0    55.0    60.0   \n",
      "4      67.71  ...     120.0   208.0   233.0   249.0   247.0   195.0   178.0   \n",
      "\n",
      "    Y2011  Y2012  Y2013  \n",
      "0  4711.0   4810   4895  \n",
      "1   476.0    425    422  \n",
      "2   203.0    367    360  \n",
      "3    72.0     78     89  \n",
      "4   191.0    200    200  \n",
      "\n",
      "[5 rows x 22 columns]\n"
     ]
    }
   ],
   "source": [
    "df = df.drop(df.columns[10:51], axis = 1)\n",
    "print(df.head())"
   ]
  },
  {
   "cell_type": "markdown",
   "metadata": {},
   "source": [
    "We want to drop some extra columns that we still don't need, but we also want to add a new column to represent the three year weighted growth in crop production. "
   ]
  },
  {
   "cell_type": "code",
   "execution_count": 3,
   "metadata": {},
   "outputs": [
    {
     "name": "stdout",
     "output_type": "stream",
     "text": [
      "  Area Abbreviation  Area Code         Area  Item Code  \\\n",
      "0               AFG          2  Afghanistan       2511   \n",
      "1               AFG          2  Afghanistan       2805   \n",
      "2               AFG          2  Afghanistan       2513   \n",
      "3               AFG          2  Afghanistan       2513   \n",
      "4               AFG          2  Afghanistan       2514   \n",
      "\n",
      "                       Item  Element Code Element         Unit  latitude  \\\n",
      "0        Wheat and products          5142    Food  1000 tonnes     33.94   \n",
      "1  Rice (Milled Equivalent)          5142    Food  1000 tonnes     33.94   \n",
      "2       Barley and products          5521    Feed  1000 tonnes     33.94   \n",
      "3       Barley and products          5142    Food  1000 tonnes     33.94   \n",
      "4        Maize and products          5521    Feed  1000 tonnes     33.94   \n",
      "\n",
      "   longitude     ...        Y2005   Y2006   Y2007   Y2008   Y2009   Y2010  \\\n",
      "0      67.71     ...       3486.0  3704.0  4164.0  4252.0  4538.0  4605.0   \n",
      "1      67.71     ...        445.0   546.0   455.0   490.0   415.0   442.0   \n",
      "2      67.71     ...        236.0   262.0   263.0   230.0   379.0   315.0   \n",
      "3      67.71     ...         43.0    44.0    48.0    62.0    55.0    60.0   \n",
      "4      67.71     ...        208.0   233.0   249.0   247.0   195.0   178.0   \n",
      "\n",
      "    Y2011  Y2012  Y2013  3 Yr Growth  \n",
      "0  4711.0   4810   4895    96.666667  \n",
      "1   476.0    425    422    -6.666667  \n",
      "2   203.0    367    360    15.000000  \n",
      "3    72.0     78     89     9.666667  \n",
      "4   191.0    200    200     7.333333  \n",
      "\n",
      "[5 rows x 23 columns]\n"
     ]
    }
   ],
   "source": [
    "df['3 Yr Growth'] = (df['Y2013'] - df['Y2010']) / 3.0\n",
    "print(df.head())"
   ]
  },
  {
   "cell_type": "code",
   "execution_count": 4,
   "metadata": {},
   "outputs": [
    {
     "name": "stdout",
     "output_type": "stream",
     "text": [
      "          Area                      Item Element   Y2002   Y2003   Y2004  \\\n",
      "0  Afghanistan        Wheat and products    Food  2776.0  3095.0  3249.0   \n",
      "1  Afghanistan  Rice (Milled Equivalent)    Food   448.0   460.0   419.0   \n",
      "2  Afghanistan       Barley and products    Feed    70.0    48.0    58.0   \n",
      "3  Afghanistan       Barley and products    Food   122.0   144.0   185.0   \n",
      "4  Afghanistan        Maize and products    Feed    89.0    63.0   120.0   \n",
      "\n",
      "    Y2005   Y2006   Y2007   Y2008   Y2009   Y2010   Y2011  Y2012  Y2013  \\\n",
      "0  3486.0  3704.0  4164.0  4252.0  4538.0  4605.0  4711.0   4810   4895   \n",
      "1   445.0   546.0   455.0   490.0   415.0   442.0   476.0    425    422   \n",
      "2   236.0   262.0   263.0   230.0   379.0   315.0   203.0    367    360   \n",
      "3    43.0    44.0    48.0    62.0    55.0    60.0    72.0     78     89   \n",
      "4   208.0   233.0   249.0   247.0   195.0   178.0   191.0    200    200   \n",
      "\n",
      "   3 Yr Growth  \n",
      "0    96.666667  \n",
      "1    -6.666667  \n",
      "2    15.000000  \n",
      "3     9.666667  \n",
      "4     7.333333  \n"
     ]
    }
   ],
   "source": [
    "unwanted_features = ['Area Code', 'Item Code', 'Element Code', 'Unit', 'latitude', 'longitude', 'Area Abbreviation']\n",
    "for item in unwanted_features:\n",
    "    df.drop(item, axis = 1, inplace= True)\n",
    "print(df.head())"
   ]
  },
  {
   "cell_type": "markdown",
   "metadata": {},
   "source": [
    "I created the 3 Yr Growth column to better illustrate the trends for what crop to select. Since crop production isn't instantaneous, I chose 3 years to give a better picture of the demand over time. \n",
    "\n",
    "We've now removed all of the unnecessary columns from the dataset, so we can begin preprocessing the data. First, we need to check for the presence of any null values that could affect our model. "
   ]
  },
  {
   "cell_type": "code",
   "execution_count": 5,
   "metadata": {},
   "outputs": [
    {
     "name": "stdout",
     "output_type": "stream",
     "text": [
      "Presence of null values: True\n",
      "Percentage of NaN/null values: Area           0.000000\n",
      "Item           0.000000\n",
      "Element        0.000000\n",
      "Y2002          1.624994\n",
      "Y2003          1.624994\n",
      "Y2004          1.624994\n",
      "Y2005          1.624994\n",
      "Y2006          0.484239\n",
      "Y2007          0.484239\n",
      "Y2008          0.484239\n",
      "Y2009          0.484239\n",
      "Y2010          0.484239\n",
      "Y2011          0.484239\n",
      "Y2012          0.000000\n",
      "Y2013          0.000000\n",
      "3 Yr Growth    0.484239\n",
      "dtype: float64\n"
     ]
    }
   ],
   "source": [
    "print(\"Presence of null values: \" + str(df.isnull().values.any()))\n",
    "print(\"Percentage of NaN/null values: \" + str(df.isnull().sum()/len(df)*100))"
   ]
  },
  {
   "cell_type": "markdown",
   "metadata": {},
   "source": [
    "Looks like we will have to fill in values for these columns of the dataset. Looking at the FAO.csv, we see these null values are usually for entire countries that have no data present. Therefore, it should be okay to fill these values in with 0 since these countries were not producing any of the product at the time. We can also encode some of our categorical features using LabelEncoder to give us numerical values. "
   ]
  },
  {
   "cell_type": "code",
   "execution_count": 6,
   "metadata": {},
   "outputs": [],
   "source": [
    "from sklearn.preprocessing import LabelEncoder\n",
    "\n",
    "df = df.fillna(0)\n",
    "lbl = LabelEncoder()\n",
    "col_names = df.columns\n",
    "for name in col_names:\n",
    "    lbl.fit(df[name])\n",
    "    df[name] = lbl.transform(df[name])"
   ]
  },
  {
   "cell_type": "markdown",
   "metadata": {},
   "source": [
    "We can now separate our data into food and feed columns using the 'Element' column name, and select the food data for wheat (item code 112)."
   ]
  },
  {
   "cell_type": "code",
   "execution_count": 7,
   "metadata": {},
   "outputs": [
    {
     "name": "stdout",
     "output_type": "stream",
     "text": [
      "     Area  Item  Element  Y2002  Y2003  Y2004  Y2005  Y2006  Y2007  Y2008  \\\n",
      "0       0   112        1   1401   1450   1472   1519   1554   1594   1625   \n",
      "84      1   112        1    524    474    445    463    420    423    430   \n",
      "207     2   112        1   1649   1691   1692   1703   1713   1717   1755   \n",
      "330     3   112        1    360    413    470    511    557    587    613   \n",
      "439     4   112        1      5      5      5      5      5      5      5   \n",
      "\n",
      "     Y2009  Y2010  Y2011  Y2012  Y2013  3 Yr Growth  \n",
      "0     1653   1671   1695   1714   1734          642  \n",
      "84     411    429    433    436    441          376  \n",
      "207   1781   1784   1822   1833   1849          803  \n",
      "330    622    653    718    757    792          548  \n",
      "439      5      6      5      6      7          368  \n"
     ]
    }
   ],
   "source": [
    "food_df = df.loc[df['Element'] == 1]\n",
    "feed_df = df.loc[df['Element'] == 0]\n",
    "\n",
    "new_df = food_df.loc[df['Item'] == 112]\n",
    "print(new_df.head())"
   ]
  },
  {
   "cell_type": "markdown",
   "metadata": {},
   "source": [
    "After processing all of the given data, we can now begin the clustering algorithm for our dataset, using KMeans clustering and the silhouette value to calculate the optimal k value."
   ]
  },
  {
   "cell_type": "markdown",
   "metadata": {},
   "source": [
    "## EDA"
   ]
  },
  {
   "cell_type": "markdown",
   "metadata": {},
   "source": [
    "Let's plot the correlation map of the dataset, to see if there's any features that are really highly correlated. "
   ]
  },
  {
   "cell_type": "code",
   "execution_count": 9,
   "metadata": {},
   "outputs": [
    {
     "data": {
      "text/plain": [
       "<matplotlib.axes._subplots.AxesSubplot at 0x223bbe01710>"
      ]
     },
     "execution_count": 9,
     "metadata": {},
     "output_type": "execute_result"
    },
    {
     "data": {
      "image/png": "[encoded data removed]",
      "text/plain": [
       "<Figure size 432x288 with 2 Axes>"
      ]
     },
     "metadata": {
      "needs_background": "light"
     },
     "output_type": "display_data"
    }
   ],
   "source": [
    "import seaborn as sns\n",
    "\n",
    "corr = new_df.corr()\n",
    "sns.heatmap(corr)"
   ]
  },
  {
   "cell_type": "markdown",
   "metadata": {},
   "source": [
    "The correlation map isn't much help here, as expected. Let's see if a bar graph can give us any insight into our data. However, we have to plot a subset of our dataframe, as 173 countries would give a useless graph. "
   ]
  },
  {
   "cell_type": "code",
   "execution_count": 10,
   "metadata": {},
   "outputs": [
    {
     "data": {
      "text/plain": [
       "<matplotlib.axes._subplots.AxesSubplot at 0x223be29a748>"
      ]
     },
     "execution_count": 10,
     "metadata": {},
     "output_type": "execute_result"
    },
    {
     "data": {
      "image/png": "[encoded data removed]",
      "text/plain": [
       "<Figure size 432x288 with 1 Axes>"
      ]
     },
     "metadata": {
      "needs_background": "light"
     },
     "output_type": "display_data"
    }
   ],
   "source": [
    "subset_df = new_df.query('Area == 0 or Area == 31 or Area == 61 or Area == 73 or Area == 81 or Area == 165')\n",
    "subset_df.plot(x=\"Area\", y=[\"Y2007\", \"Y2010\", \"Y2013\"], kind=\"bar\")"
   ]
  },
  {
   "cell_type": "markdown",
   "metadata": {},
   "source": [
    "The above values correspond to the following countries:  \n",
    "__Afghanistan__ = 0  \n",
    "__Chile__ = 31  \n",
    "__Germany__ = 61  \n",
    "__India__ = 73  \n",
    "__Japan__ = 81  \n",
    "__USA__ = 165  \n",
    "\n",
    "Here we can see that the clustering has already started to reveal itself. India and the USA are very close in the top producers of wheat, while Afghanistan, Germany, and Japan are close behind. Chile is a tier below, showing that we can identify around 3 clusters forming already. "
   ]
  },
  {
   "cell_type": "markdown",
   "metadata": {},
   "source": [
    "## Model Training"
   ]
  },
  {
   "cell_type": "markdown",
   "metadata": {},
   "source": [
    "Now that we've seen the clustering firsthand, we can use our developed automated KMeans clustering algorithm to get an optimal clustering for the above data. We have two different methods we can use for calculating the optimal clusters automatically: the silhouette method and the elbow method.\n",
    "\n",
    "The silhouette method gives a more accurate optimal K value, but at a O(N^2) runtime, meaning that we would have to trim our dataset to use it. The elbow method computes the optimal K much faster, but there is a higher chance that it outputs an incorrect K value compared to the silhouette. \n",
    "\n",
    "Let's start with the elbow method, and the plotting of the elbow method. "
   ]
  },
  {
   "cell_type": "code",
   "execution_count": 11,
   "metadata": {},
   "outputs": [],
   "source": [
    "from kneed import KneeLocator\n",
    "from sklearn.cluster import KMeans\n",
    "import math\n",
    "\n",
    "error = []\n",
    "for i in range(1, int(math.sqrt(len(new_df)))):\n",
    "    kmeans = KMeans(n_clusters = i)\n",
    "    kmeans.fit(new_df)\n",
    "    error.append(kmeans.inertia_)\n",
    "    \n",
    "optimalK = KneeLocator(\n",
    "    range(1, int(math.sqrt(len(new_df)))),\n",
    "    error,\n",
    "    curve = 'convex',\n",
    "    direction = 'decreasing',\n",
    "    interp_method = 'interp1d',\n",
    ")"
   ]
  },
  {
   "cell_type": "markdown",
   "metadata": {},
   "source": [
    "The KneeLocator object has a parameter elbow, which will give the optimal K value for the K Means algorithm. "
   ]
  },
  {
   "cell_type": "code",
   "execution_count": 12,
   "metadata": {},
   "outputs": [
    {
     "name": "stdout",
     "output_type": "stream",
     "text": [
      "3\n"
     ]
    }
   ],
   "source": [
    "print(optimalK.elbow)"
   ]
  },
  {
   "cell_type": "markdown",
   "metadata": {},
   "source": [
    "Note that this value has a certain error, due to the fact that I reduced the computation time to be the sqrt of the number of rows in the dataframe. This is done to save time and maximize accuracy versus time spent computing. \n",
    "\n",
    "Let's try the silhouette method below:"
   ]
  },
  {
   "cell_type": "code",
   "execution_count": 13,
   "metadata": {},
   "outputs": [],
   "source": [
    "from sklearn.metrics import silhouette_score\n",
    "\n",
    "silhouette_vals = dict()\n",
    "for i in range(2, 10):\n",
    "    kmeans = KMeans(n_clusters = i)\n",
    "    cluster_labels = kmeans.fit_predict(new_df)\n",
    "    silhouette_vals[i] = silhouette_score(new_df, cluster_labels)\n"
   ]
  },
  {
   "cell_type": "markdown",
   "metadata": {},
   "source": [
    "The silhouette method computes the distance of every data point to the cluster nodes and adjusts the center position until each cluster center is far enough away to produce an optimal cluster center for all other data points. The maximum silhouette score will give us needed optimal K value. Read more about the silhouette method [here](https://en.wikipedia.org/wiki/Silhouette_(clustering))."
   ]
  },
  {
   "cell_type": "code",
   "execution_count": 14,
   "metadata": {},
   "outputs": [
    {
     "name": "stdout",
     "output_type": "stream",
     "text": [
      "2\n"
     ]
    }
   ],
   "source": [
    "optimalK_silhouette = max(silhouette_vals, key=silhouette_vals.get)\n",
    "print(optimalK_silhouette)"
   ]
  },
  {
   "cell_type": "markdown",
   "metadata": {},
   "source": [
    "Again, due to the inaccuracies when automating the K selection, there may be differing values between the two methods. Here is one such example. A good approach would be to compute both and see which K value suits the dataset according to your standards. "
   ]
  },
  {
   "cell_type": "markdown",
   "metadata": {},
   "source": [
    "## Model Testing"
   ]
  },
  {
   "cell_type": "markdown",
   "metadata": {},
   "source": [
    "Let's plot the clustering done by the KMeans elbow method:"
   ]
  },
  {
   "cell_type": "code",
   "execution_count": 15,
   "metadata": {},
   "outputs": [
    {
     "data": {
      "text/plain": [
       "<matplotlib.collections.PathCollection at 0x223c096cda0>"
      ]
     },
     "execution_count": 15,
     "metadata": {},
     "output_type": "execute_result"
    },
    {
     "data": {
      "image/png": "[encoded data removed]",
      "text/plain": [
       "<Figure size 576x432 with 1 Axes>"
      ]
     },
     "metadata": {
      "needs_background": "light"
     },
     "output_type": "display_data"
    }
   ],
   "source": [
    "from sklearn.decomposition import PCA\n",
    "import matplotlib.pyplot as plt\n",
    "\n",
    "pca = PCA(n_components = optimalK.elbow)\n",
    "wheat_df = pca.fit_transform(new_df)\n",
    "model = KMeans(n_clusters = optimalK.elbow).fit(wheat_df)\n",
    "plt.figure(figsize=(8, 6))\n",
    "plt.scatter(wheat_df[:,0], wheat_df[:,1], c=model.labels_.astype(float))"
   ]
  },
  {
   "cell_type": "markdown",
   "metadata": {},
   "source": [
    "The elbow method gives us a fairly good clustering of the datapoints, showing that there are distinct clusters of countries with high wheat production throughout the world. Since we are using PCA, a lot of the information is obfuscated. However, we can at least see that the clustering algorithm produces a reasonable result. "
   ]
  },
  {
   "cell_type": "markdown",
   "metadata": {},
   "source": [
    "Let's now plot the clustering given by the silhouette method:"
   ]
  },
  {
   "cell_type": "code",
   "execution_count": 16,
   "metadata": {},
   "outputs": [
    {
     "data": {
      "text/plain": [
       "<matplotlib.collections.PathCollection at 0x223c09e9588>"
      ]
     },
     "execution_count": 16,
     "metadata": {},
     "output_type": "execute_result"
    },
    {
     "data": {
      "image/png": "[encoded data removed]",
      "text/plain": [
       "<Figure size 576x432 with 1 Axes>"
      ]
     },
     "metadata": {
      "needs_background": "light"
     },
     "output_type": "display_data"
    }
   ],
   "source": [
    "pca = PCA(n_components = 2)\n",
    "silhouette_df = pca.fit_transform(new_df)\n",
    "\n",
    "model = KMeans(n_clusters = optimalK_silhouette).fit(new_df)\n",
    "plt.figure(figsize=(8, 6))\n",
    "plt.scatter(silhouette_df[:,0], silhouette_df[:,1], c=model.labels_.astype(float))\n"
   ]
  },
  {
   "cell_type": "markdown",
   "metadata": {},
   "source": [
    "The silhouette method gives us another clustering, which also looks reasonable for the dataset. From here, the best way to choose the preferred K value is through personal preference. I chose the elbow method value because I thought the 3-clustering was more reasonable than the 2-clustering given by the silhouette. "
   ]
  },
  {
   "cell_type": "markdown",
   "metadata": {},
   "source": [
    "From here, the farmer can clearly make a decision about where to sell wheat. Based on the clustering given above, the farmer will most likely sell the most product on the upper-right most data points. From there, he can choose which countries he decides to sell to, solving his original problem. "
   ]
  }
 ],
 "metadata": {
  "kernelspec": {
   "display_name": "Python 3",
   "language": "python",
   "name": "python3"
  },
  "language_info": {
   "codemirror_mode": {
    "name": "ipython",
    "version": 3
   },
   "file_extension": ".py",
   "mimetype": "text/x-python",
   "name": "python",
   "nbconvert_exporter": "python",
   "pygments_lexer": "ipython3",
   "version": "3.7.4"
  }
 },
 "nbformat": 4,
 "nbformat_minor": 2
}
